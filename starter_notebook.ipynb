{
  "cells": [
    {
      "cell_type": "markdown",
      "metadata": {
        "id": "view-in-github",
        "colab_type": "text"
      },
      "source": [
        "<a href=\"https://colab.research.google.com/github/thesharmahitesh/Financial-Advisory-Service-web-application/blob/main/starter_notebook.ipynb\" target=\"_parent\"><img src=\"https://colab.research.google.com/assets/colab-badge.svg\" alt=\"Open In Colab\"/></a>"
      ]
    },
    {
      "cell_type": "markdown",
      "id": "72e78a05",
      "metadata": {
        "id": "72e78a05"
      },
      "source": [
        "# 🌦️ WeatherWise – Starter Notebook\n",
        "\n",
        "Welcome to your **WeatherWise** project notebook! This scaffold is designed to help you build your weather advisor app using Python, visualisations, and AI-enhanced development.\n",
        "\n",
        "---\n",
        "\n",
        "📄 **Full Assignment Specification**  \n",
        "See [`ASSIGNMENT.md`](ASSIGNMENT.md) or check the LMS for full details.\n",
        "\n",
        "📝 **Quick Refresher**  \n",
        "A one-page summary is available in [`resources/assignment-summary.md`](resources/assignment-summary.md).\n",
        "\n",
        "---\n",
        "\n",
        "🧠 **This Notebook Structure is Optional**  \n",
        "You’re encouraged to reorganise, rename sections, or remove scaffold cells if you prefer — as long as your final version meets the requirements.\n",
        "\n",
        "✅ You may delete this note before submission.\n",
        "\n"
      ]
    },
    {
      "cell_type": "markdown",
      "id": "fa8c7f6c",
      "metadata": {
        "id": "fa8c7f6c"
      },
      "source": [
        "## 🧰 Setup and Imports\n",
        "\n",
        "This section imports commonly used packages and installs any additional tools used in the project.\n",
        "\n",
        "- You may not need all of these unless you're using specific features (e.g. visualisations, advanced prompting).\n",
        "- The notebook assumes the following packages are **pre-installed** in the provided environment or installable via pip:\n",
        "  - `requests`, `matplotlib`, `pyinputplus`\n",
        "  - `fetch-my-weather` (for accessing weather data easily)\n",
        "  - `hands-on-ai` (for AI logging, comparisons, or prompting tools)\n",
        "\n",
        "If you're running this notebook in **Google Colab**, uncomment the following lines to install the required packages.\n"
      ]
    },
    {
      "cell_type": "code",
      "execution_count": 344,
      "id": "70c3f3f1",
      "metadata": {
        "id": "70c3f3f1",
        "colab": {
          "base_uri": "https://localhost:8080/"
        },
        "outputId": "e7f0d24e-76f6-4fef-a09c-31ace92268c6"
      },
      "outputs": [
        {
          "output_type": "stream",
          "name": "stdout",
          "text": [
            "Requirement already satisfied: fetch-my-weather in /usr/local/lib/python3.12/dist-packages (0.4.0)\n",
            "Requirement already satisfied: requests>=2.25.0 in /usr/local/lib/python3.12/dist-packages (from fetch-my-weather) (2.32.4)\n",
            "Requirement already satisfied: pydantic>=1.8.0 in /usr/local/lib/python3.12/dist-packages (from fetch-my-weather) (2.11.9)\n",
            "Requirement already satisfied: annotated-types>=0.6.0 in /usr/local/lib/python3.12/dist-packages (from pydantic>=1.8.0->fetch-my-weather) (0.7.0)\n",
            "Requirement already satisfied: pydantic-core==2.33.2 in /usr/local/lib/python3.12/dist-packages (from pydantic>=1.8.0->fetch-my-weather) (2.33.2)\n",
            "Requirement already satisfied: typing-extensions>=4.12.2 in /usr/local/lib/python3.12/dist-packages (from pydantic>=1.8.0->fetch-my-weather) (4.15.0)\n",
            "Requirement already satisfied: typing-inspection>=0.4.0 in /usr/local/lib/python3.12/dist-packages (from pydantic>=1.8.0->fetch-my-weather) (0.4.1)\n",
            "Requirement already satisfied: charset_normalizer<4,>=2 in /usr/local/lib/python3.12/dist-packages (from requests>=2.25.0->fetch-my-weather) (3.4.3)\n",
            "Requirement already satisfied: idna<4,>=2.5 in /usr/local/lib/python3.12/dist-packages (from requests>=2.25.0->fetch-my-weather) (3.10)\n",
            "Requirement already satisfied: urllib3<3,>=1.21.1 in /usr/local/lib/python3.12/dist-packages (from requests>=2.25.0->fetch-my-weather) (2.5.0)\n",
            "Requirement already satisfied: certifi>=2017.4.17 in /usr/local/lib/python3.12/dist-packages (from requests>=2.25.0->fetch-my-weather) (2025.8.3)\n",
            "Requirement already satisfied: hands-on-ai in /usr/local/lib/python3.12/dist-packages (0.2.1)\n",
            "Requirement already satisfied: requests in /usr/local/lib/python3.12/dist-packages (from hands-on-ai) (2.32.4)\n",
            "Requirement already satisfied: typer in /usr/local/lib/python3.12/dist-packages (from hands-on-ai) (0.17.4)\n",
            "Requirement already satisfied: python-fasthtml in /usr/local/lib/python3.12/dist-packages (from hands-on-ai) (0.12.29)\n",
            "Requirement already satisfied: python-docx in /usr/local/lib/python3.12/dist-packages (from hands-on-ai) (1.2.0)\n",
            "Requirement already satisfied: pymupdf in /usr/local/lib/python3.12/dist-packages (from hands-on-ai) (1.26.4)\n",
            "Requirement already satisfied: scikit-learn in /usr/local/lib/python3.12/dist-packages (from hands-on-ai) (1.6.1)\n",
            "Requirement already satisfied: numpy in /usr/local/lib/python3.12/dist-packages (from hands-on-ai) (2.0.2)\n",
            "Requirement already satisfied: instructor>=1.11.0 in /usr/local/lib/python3.12/dist-packages (from hands-on-ai) (1.11.3)\n",
            "Requirement already satisfied: pydantic>=2.0 in /usr/local/lib/python3.12/dist-packages (from hands-on-ai) (2.11.9)\n",
            "Requirement already satisfied: aiohttp<4.0.0,>=3.9.1 in /usr/local/lib/python3.12/dist-packages (from instructor>=1.11.0->hands-on-ai) (3.12.15)\n",
            "Requirement already satisfied: diskcache>=5.6.3 in /usr/local/lib/python3.12/dist-packages (from instructor>=1.11.0->hands-on-ai) (5.6.3)\n",
            "Requirement already satisfied: docstring-parser<1.0,>=0.16 in /usr/local/lib/python3.12/dist-packages (from instructor>=1.11.0->hands-on-ai) (0.17.0)\n",
            "Requirement already satisfied: jinja2<4.0.0,>=3.1.4 in /usr/local/lib/python3.12/dist-packages (from instructor>=1.11.0->hands-on-ai) (3.1.6)\n",
            "Requirement already satisfied: jiter<0.11,>=0.6.1 in /usr/local/lib/python3.12/dist-packages (from instructor>=1.11.0->hands-on-ai) (0.10.0)\n",
            "Requirement already satisfied: openai<2.0.0,>=1.70.0 in /usr/local/lib/python3.12/dist-packages (from instructor>=1.11.0->hands-on-ai) (1.108.0)\n",
            "Requirement already satisfied: pydantic-core<3.0.0,>=2.18.0 in /usr/local/lib/python3.12/dist-packages (from instructor>=1.11.0->hands-on-ai) (2.33.2)\n",
            "Requirement already satisfied: rich<15.0.0,>=13.7.0 in /usr/local/lib/python3.12/dist-packages (from instructor>=1.11.0->hands-on-ai) (13.9.4)\n",
            "Requirement already satisfied: tenacity<10.0.0,>=8.2.3 in /usr/local/lib/python3.12/dist-packages (from instructor>=1.11.0->hands-on-ai) (8.5.0)\n",
            "Requirement already satisfied: annotated-types>=0.6.0 in /usr/local/lib/python3.12/dist-packages (from pydantic>=2.0->hands-on-ai) (0.7.0)\n",
            "Requirement already satisfied: typing-extensions>=4.12.2 in /usr/local/lib/python3.12/dist-packages (from pydantic>=2.0->hands-on-ai) (4.15.0)\n",
            "Requirement already satisfied: typing-inspection>=0.4.0 in /usr/local/lib/python3.12/dist-packages (from pydantic>=2.0->hands-on-ai) (0.4.1)\n",
            "Requirement already satisfied: charset_normalizer<4,>=2 in /usr/local/lib/python3.12/dist-packages (from requests->hands-on-ai) (3.4.3)\n",
            "Requirement already satisfied: idna<4,>=2.5 in /usr/local/lib/python3.12/dist-packages (from requests->hands-on-ai) (3.10)\n",
            "Requirement already satisfied: urllib3<3,>=1.21.1 in /usr/local/lib/python3.12/dist-packages (from requests->hands-on-ai) (2.5.0)\n",
            "Requirement already satisfied: certifi>=2017.4.17 in /usr/local/lib/python3.12/dist-packages (from requests->hands-on-ai) (2025.8.3)\n",
            "Requirement already satisfied: click>=8.0.0 in /usr/local/lib/python3.12/dist-packages (from typer->hands-on-ai) (8.2.1)\n",
            "Requirement already satisfied: shellingham>=1.3.0 in /usr/local/lib/python3.12/dist-packages (from typer->hands-on-ai) (1.5.4)\n",
            "Requirement already satisfied: lxml>=3.1.0 in /usr/local/lib/python3.12/dist-packages (from python-docx->hands-on-ai) (5.4.0)\n",
            "Requirement already satisfied: fastcore>=1.8.1 in /usr/local/lib/python3.12/dist-packages (from python-fasthtml->hands-on-ai) (1.8.8)\n",
            "Requirement already satisfied: python-dateutil in /usr/local/lib/python3.12/dist-packages (from python-fasthtml->hands-on-ai) (2.9.0.post0)\n",
            "Requirement already satisfied: starlette>0.33 in /usr/local/lib/python3.12/dist-packages (from python-fasthtml->hands-on-ai) (0.48.0)\n",
            "Requirement already satisfied: oauthlib in /usr/local/lib/python3.12/dist-packages (from python-fasthtml->hands-on-ai) (3.3.1)\n",
            "Requirement already satisfied: itsdangerous in /usr/local/lib/python3.12/dist-packages (from python-fasthtml->hands-on-ai) (2.2.0)\n",
            "Requirement already satisfied: uvicorn>=0.30 in /usr/local/lib/python3.12/dist-packages (from uvicorn[standard]>=0.30->python-fasthtml->hands-on-ai) (0.35.0)\n",
            "Requirement already satisfied: httpx in /usr/local/lib/python3.12/dist-packages (from python-fasthtml->hands-on-ai) (0.28.1)\n",
            "Requirement already satisfied: fastlite>=0.1.1 in /usr/local/lib/python3.12/dist-packages (from python-fasthtml->hands-on-ai) (0.2.1)\n",
            "Requirement already satisfied: python-multipart in /usr/local/lib/python3.12/dist-packages (from python-fasthtml->hands-on-ai) (0.0.20)\n",
            "Requirement already satisfied: beautifulsoup4 in /usr/local/lib/python3.12/dist-packages (from python-fasthtml->hands-on-ai) (4.13.5)\n",
            "Requirement already satisfied: scipy>=1.6.0 in /usr/local/lib/python3.12/dist-packages (from scikit-learn->hands-on-ai) (1.16.2)\n",
            "Requirement already satisfied: joblib>=1.2.0 in /usr/local/lib/python3.12/dist-packages (from scikit-learn->hands-on-ai) (1.5.2)\n",
            "Requirement already satisfied: threadpoolctl>=3.1.0 in /usr/local/lib/python3.12/dist-packages (from scikit-learn->hands-on-ai) (3.6.0)\n",
            "Requirement already satisfied: aiohappyeyeballs>=2.5.0 in /usr/local/lib/python3.12/dist-packages (from aiohttp<4.0.0,>=3.9.1->instructor>=1.11.0->hands-on-ai) (2.6.1)\n",
            "Requirement already satisfied: aiosignal>=1.4.0 in /usr/local/lib/python3.12/dist-packages (from aiohttp<4.0.0,>=3.9.1->instructor>=1.11.0->hands-on-ai) (1.4.0)\n",
            "Requirement already satisfied: attrs>=17.3.0 in /usr/local/lib/python3.12/dist-packages (from aiohttp<4.0.0,>=3.9.1->instructor>=1.11.0->hands-on-ai) (25.3.0)\n",
            "Requirement already satisfied: frozenlist>=1.1.1 in /usr/local/lib/python3.12/dist-packages (from aiohttp<4.0.0,>=3.9.1->instructor>=1.11.0->hands-on-ai) (1.7.0)\n",
            "Requirement already satisfied: multidict<7.0,>=4.5 in /usr/local/lib/python3.12/dist-packages (from aiohttp<4.0.0,>=3.9.1->instructor>=1.11.0->hands-on-ai) (6.6.4)\n",
            "Requirement already satisfied: propcache>=0.2.0 in /usr/local/lib/python3.12/dist-packages (from aiohttp<4.0.0,>=3.9.1->instructor>=1.11.0->hands-on-ai) (0.3.2)\n",
            "Requirement already satisfied: yarl<2.0,>=1.17.0 in /usr/local/lib/python3.12/dist-packages (from aiohttp<4.0.0,>=3.9.1->instructor>=1.11.0->hands-on-ai) (1.20.1)\n",
            "Requirement already satisfied: packaging in /usr/local/lib/python3.12/dist-packages (from fastcore>=1.8.1->python-fasthtml->hands-on-ai) (25.0)\n",
            "Requirement already satisfied: apswutils>=0.1.0 in /usr/local/lib/python3.12/dist-packages (from fastlite>=0.1.1->python-fasthtml->hands-on-ai) (0.1.0)\n",
            "Requirement already satisfied: MarkupSafe>=2.0 in /usr/local/lib/python3.12/dist-packages (from jinja2<4.0.0,>=3.1.4->instructor>=1.11.0->hands-on-ai) (3.0.2)\n",
            "Requirement already satisfied: anyio<5,>=3.5.0 in /usr/local/lib/python3.12/dist-packages (from openai<2.0.0,>=1.70.0->instructor>=1.11.0->hands-on-ai) (4.10.0)\n",
            "Requirement already satisfied: distro<2,>=1.7.0 in /usr/local/lib/python3.12/dist-packages (from openai<2.0.0,>=1.70.0->instructor>=1.11.0->hands-on-ai) (1.9.0)\n",
            "Requirement already satisfied: sniffio in /usr/local/lib/python3.12/dist-packages (from openai<2.0.0,>=1.70.0->instructor>=1.11.0->hands-on-ai) (1.3.1)\n",
            "Requirement already satisfied: tqdm>4 in /usr/local/lib/python3.12/dist-packages (from openai<2.0.0,>=1.70.0->instructor>=1.11.0->hands-on-ai) (4.67.1)\n",
            "Requirement already satisfied: httpcore==1.* in /usr/local/lib/python3.12/dist-packages (from httpx->python-fasthtml->hands-on-ai) (1.0.9)\n",
            "Requirement already satisfied: h11>=0.16 in /usr/local/lib/python3.12/dist-packages (from httpcore==1.*->httpx->python-fasthtml->hands-on-ai) (0.16.0)\n",
            "Requirement already satisfied: markdown-it-py>=2.2.0 in /usr/local/lib/python3.12/dist-packages (from rich<15.0.0,>=13.7.0->instructor>=1.11.0->hands-on-ai) (4.0.0)\n",
            "Requirement already satisfied: pygments<3.0.0,>=2.13.0 in /usr/local/lib/python3.12/dist-packages (from rich<15.0.0,>=13.7.0->instructor>=1.11.0->hands-on-ai) (2.19.2)\n",
            "Requirement already satisfied: httptools>=0.6.3 in /usr/local/lib/python3.12/dist-packages (from uvicorn[standard]>=0.30->python-fasthtml->hands-on-ai) (0.6.4)\n",
            "Requirement already satisfied: python-dotenv>=0.13 in /usr/local/lib/python3.12/dist-packages (from uvicorn[standard]>=0.30->python-fasthtml->hands-on-ai) (1.1.1)\n",
            "Requirement already satisfied: pyyaml>=5.1 in /usr/local/lib/python3.12/dist-packages (from uvicorn[standard]>=0.30->python-fasthtml->hands-on-ai) (6.0.2)\n",
            "Requirement already satisfied: uvloop>=0.15.1 in /usr/local/lib/python3.12/dist-packages (from uvicorn[standard]>=0.30->python-fasthtml->hands-on-ai) (0.21.0)\n",
            "Requirement already satisfied: watchfiles>=0.13 in /usr/local/lib/python3.12/dist-packages (from uvicorn[standard]>=0.30->python-fasthtml->hands-on-ai) (1.1.0)\n",
            "Requirement already satisfied: websockets>=10.4 in /usr/local/lib/python3.12/dist-packages (from uvicorn[standard]>=0.30->python-fasthtml->hands-on-ai) (15.0.1)\n",
            "Requirement already satisfied: soupsieve>1.2 in /usr/local/lib/python3.12/dist-packages (from beautifulsoup4->python-fasthtml->hands-on-ai) (2.8)\n",
            "Requirement already satisfied: six>=1.5 in /usr/local/lib/python3.12/dist-packages (from python-dateutil->python-fasthtml->hands-on-ai) (1.17.0)\n",
            "Requirement already satisfied: apsw in /usr/local/lib/python3.12/dist-packages (from apswutils>=0.1.0->fastlite>=0.1.1->python-fasthtml->hands-on-ai) (3.50.4.0)\n",
            "Requirement already satisfied: mdurl~=0.1 in /usr/local/lib/python3.12/dist-packages (from markdown-it-py>=2.2.0->rich<15.0.0,>=13.7.0->instructor>=1.11.0->hands-on-ai) (0.1.2)\n"
          ]
        }
      ],
      "source": [
        "# 🧪 Optional packages — uncomment if needed in Colab or JupyterHub\n",
        "!pip install fetch-my-weather\n",
        "!pip install hands-on-ai\n"
      ]
    },
    {
      "cell_type": "code",
      "source": [
        "import os\n",
        "\n",
        "os.environ['HANDS_ON_AI_SERVER'] = 'http://ollama.serveur.au'\n",
        "os.environ['HANDS_ON_AI_MODEL'] = 'granite3.2'\n",
        "os.environ['HANDS_ON_AI_API_KEY'] = input('Enter your API key: ')"
      ],
      "metadata": {
        "id": "B2JKlJfrGgIb",
        "colab": {
          "base_uri": "https://localhost:8080/"
        },
        "outputId": "865ee5e8-8861-4ed6-eb0e-b9fb6a38bc5d"
      },
      "id": "B2JKlJfrGgIb",
      "execution_count": 345,
      "outputs": [
        {
          "name": "stdout",
          "output_type": "stream",
          "text": [
            "Enter your API key: 881c3424598246be9ec40e84dbe7727b.Rit-ZWtlEwcCcNdZa66WTdRV\n"
          ]
        }
      ]
    },
    {
      "cell_type": "markdown",
      "id": "59ae7543",
      "metadata": {
        "id": "59ae7543"
      },
      "source": [
        "## 📦 Setup and Configuration\n",
        "Import required packages and setup environment."
      ]
    },
    {
      "cell_type": "code",
      "execution_count": 346,
      "id": "f1dd051e",
      "metadata": {
        "id": "f1dd051e"
      },
      "outputs": [],
      "source": [
        "import os\n",
        "import re\n",
        "import requests\n",
        "import matplotlib.pyplot as plt\n",
        "import pyinputplus as pyip\n",
        "from datetime import datetime, timedelta\n",
        "from fetch_my_weather import get_weather\n",
        "from hands_on_ai.chat import get_response\n",
        "\n",
        "\n",
        "# Optional: try to import the convenience package if available\n",
        "try:\n",
        "    from fetch_my_weather import get_weather as fetch_my_weather_get\n",
        "    _HAS_FETCH_MY_WEATHER = True\n",
        "except Exception:\n",
        "    _HAS_FETCH_MY_WEATHER = False\n",
        "\n",
        "\n",
        "def _safe_get(url, params=None, timeout=10):\n",
        "    \"\"\"Helper: perform requests.get with basic error handling.\"\"\"\n",
        "    try:\n",
        "        r = requests.get(url, params=params, timeout=timeout)\n",
        "        r.raise_for_status()\n",
        "        return r\n",
        "    except Exception as e:\n",
        "        # Return None and let caller decide\n",
        "        return None"
      ]
    },
    {
      "cell_type": "markdown",
      "id": "f736ade3",
      "metadata": {
        "id": "f736ade3"
      },
      "source": [
        "## 🌤️ Weather Data Functions"
      ]
    },
    {
      "cell_type": "code",
      "execution_count": 347,
      "id": "7a2c7cd0",
      "metadata": {
        "id": "7a2c7cd0"
      },
      "outputs": [],
      "source": [
        "def get_weather_data(location, forecast_days=5):\n",
        "    \"\"\"\n",
        "    Retrieve weather data for a specified location.\n",
        "\n",
        "    Args:\n",
        "        location (str): City or location name\n",
        "        forecast_days (int): Number of days to forecast (1-5)\n",
        "\n",
        "    Returns:\n",
        "        dict: Weather data including current conditions and forecast\n",
        "              Structure:\n",
        "              {\n",
        "                \"location\": \"<name>\",\n",
        "                \"current\": {\"temp_C\":..., \"feelslike_C\":..., \"weather_desc\": \"...\", \"humidity\": ..., \"wind_kmph\": ...},\n",
        "                \"forecast\": [\n",
        "                    {\"date\": \"YYYY-MM-DD\", \"maxtemp_C\":..., \"mintemp_C\":..., \"avgtemp_C\":..., \"precip_chance_percent\": ...},\n",
        "                    ...\n",
        "                ]\n",
        "              }\n",
        "    \"\"\"\n",
        "    forecast_days = min(max(int(forecast_days), 1), 5)\n",
        "\n",
        "    # Try fetch-my-weather if available (foundation option)\n",
        "    if _HAS_FETCH_MY_WEATHER:\n",
        "        try:\n",
        "            raw = fetch_my_weather_get(location)\n",
        "            # Normalize based on observed structure from fetch-my-weather / wttr\n",
        "            # Attempt to extract meaningful fields; fall back gracefully if missing.\n",
        "            loc_name = raw.get(\"nearest_area\", [{}])[0].get(\"areaName\", [{}])[0].get(\"value\", location)\n",
        "            current = raw.get(\"current_condition\", [{}])[0]\n",
        "            forecast_raw = raw.get(\"weather\", [])[:forecast_days]\n",
        "\n",
        "            current_parsed = {\n",
        "                \"temp_C\": float(current.get(\"temp_C\", current.get(\"tempC\", 0))),\n",
        "                \"feelslike_C\": float(current.get(\"FeelsLikeC\", current.get(\"feelslike_C\", 0))),\n",
        "                \"weather_desc\": (current.get(\"weatherDesc\", [{}])[0].get(\"value\", \"\")\n",
        "                                 if isinstance(current.get(\"weatherDesc\", \"\"), (list,tuple)) else current.get(\"weatherDesc\",\"\")),\n",
        "                \"humidity\": int(current.get(\"humidity\", 0)),\n",
        "                \"wind_kmph\": float(current.get(\"windspeedKmph\", current.get(\"wind_kmph\", 0)))\n",
        "            }\n",
        "\n",
        "            forecast = []\n",
        "            for day in forecast_raw:\n",
        "                precip_list = [int(h.get(\"chanceofrain\", 0)) for h in day.get(\"hourly\", []) if \"chanceofrain\" in h]\n",
        "                precip_chance = max(precip_list) if precip_list else int(day.get(\"hourly\", [{}])[0].get(\"chanceofrain\", 0))\n",
        "                forecast.append({\n",
        "                    \"date\": day.get(\"date\"),\n",
        "                    \"maxtemp_C\": float(day.get(\"maxtempC\", day.get(\"maxTempC\", 0))),\n",
        "                    \"mintemp_C\": float(day.get(\"mintempC\", day.get(\"minTempC\", 0))),\n",
        "                    \"avgtemp_C\": float(day.get(\"avgtempC\", day.get(\"avgtempC\", 0))),\n",
        "                    \"precip_chance_percent\": int(precip_chance)\n",
        "                })\n",
        "\n",
        "            return {\"location\": loc_name, \"current\": current_parsed, \"forecast\": forecast}\n",
        "\n",
        "        except Exception:\n",
        "            # Fall through to wttr.in option\n",
        "            pass\n",
        "\n",
        "    # Standard option: use wttr.in JSON\n",
        "    url = f\"https://wttr.in/{location}\"\n",
        "    params = {\"format\": \"j1\"}\n",
        "    resp = _safe_get(url, params=params)\n",
        "    if resp is None:\n",
        "        raise RuntimeError(f\"Failed to fetch weather for: {location}\")\n",
        "\n",
        "    raw = resp.json()\n",
        "\n",
        "    # Parse location name\n",
        "    loc_name = location\n",
        "    try:\n",
        "        nearest = raw.get(\"nearest_area\", [])\n",
        "        if nearest:\n",
        "            loc_name = nearest[0].get(\"areaName\", [{}])[0].get(\"value\", location)\n",
        "    except Exception:\n",
        "        pass\n",
        "\n",
        "    # Current condition\n",
        "    current = raw.get(\"current_condition\", [{}])[0]\n",
        "    current_parsed = {\n",
        "        \"temp_C\": float(current.get(\"temp_C\", current.get(\"tempC\", 0))),\n",
        "        \"feelslike_C\": float(current.get(\"FeelsLikeC\", current.get(\"feelslikeC\", 0))),\n",
        "        \"weather_desc\": (current.get(\"weatherDesc\", [{}])[0].get(\"value\", \"\")\n",
        "                         if isinstance(current.get(\"weatherDesc\", \"\"), (list,tuple)) else current.get(\"weatherDesc\",\"\")),\n",
        "        \"humidity\": int(current.get(\"humidity\", 0)) if current.get(\"humidity\") is not None else None,\n",
        "        \"wind_kmph\": float(current.get(\"windspeedKmph\", 0)) if current.get(\"windspeedKmph\") else None\n",
        "    }\n",
        "\n",
        "    # Forecast: wttr 'weather' array contains daily entries with hourly info\n",
        "    forecast = []\n",
        "    weather_days = raw.get(\"weather\", [])[:forecast_days]\n",
        "    for day in weather_days:\n",
        "        # Calculate maximum chance of rain from hourly if present\n",
        "        hourly = day.get(\"hourly\", [])\n",
        "        precip_vals = []\n",
        "        for h in hourly:\n",
        "            # chanceofrain may be string\n",
        "            val = h.get(\"chanceofrain\") or h.get(\"chanceofrain\", 0)\n",
        "            try:\n",
        "                precip_vals.append(int(val))\n",
        "            except Exception:\n",
        "                try:\n",
        "                    precip_vals.append(int(float(val)))\n",
        "                except Exception:\n",
        "                    pass\n",
        "        precip_chance = max(precip_vals) if precip_vals else 0\n",
        "\n",
        "        forecast.append({\n",
        "            \"date\": day.get(\"date\"),\n",
        "            \"maxtemp_C\": float(day.get(\"maxtempC\", 0)),\n",
        "            \"mintemp_C\": float(day.get(\"mintempC\", 0)),\n",
        "            \"avgtemp_C\": float(day.get(\"avgtempC\", (float(day.get(\"maxtempC\", 0)) + float(day.get(\"mintempC\", 0))) / 2)),\n",
        "            \"precip_chance_percent\": int(precip_chance)\n",
        "        })\n",
        "\n",
        "    return {\"location\": loc_name, \"current\": current_parsed, \"forecast\": forecast}\n",
        "\n",
        "\n"
      ]
    },
    {
      "cell_type": "markdown",
      "id": "8a744fdc",
      "metadata": {
        "id": "8a744fdc"
      },
      "source": [
        "## 📊 Visualisation Functions"
      ]
    },
    {
      "cell_type": "code",
      "execution_count": 348,
      "id": "9dc3bf85",
      "metadata": {
        "id": "9dc3bf85"
      },
      "outputs": [],
      "source": [
        "import matplotlib.pyplot as plt\n",
        "\n",
        "def create_precipitation_visualisation(weather_data, output_type='display'):\n",
        "    \"\"\"Visualise precipitation chance per day.\"\"\"\n",
        "    if \"forecast\" not in weather_data or not weather_data[\"forecast\"]:\n",
        "        raise ValueError(\"No forecast data available for precipitation visualisation.\")\n",
        "\n",
        "    dates = [d[\"date\"] for d in weather_data[\"forecast\"]]\n",
        "    precips = [d.get(\"precip_chance_percent\", 0) for d in weather_data[\"forecast\"]]\n",
        "\n",
        "    fig, ax = plt.subplots(figsize=(8, 4))\n",
        "\n",
        "    # Add bars with border and color even for 0 values\n",
        "    bars = ax.bar(dates, precips, color='skyblue', edgecolor='black', linewidth=1.2)\n",
        "\n",
        "    # If all are zero, display message inside chart\n",
        "    if all(p == 0 for p in precips):\n",
        "        ax.text(0.5, 0.5, \" No Rain Expected\", transform=ax.transAxes,\n",
        "                ha='center', va='center', fontsize=12, color='gray')\n",
        "\n",
        "    ax.set_title(f\"Chance of Precipitation: {weather_data.get('location', '')}\")\n",
        "    ax.set_xlabel(\"Date\")\n",
        "    ax.set_ylabel(\"Precipitation Chance (%)\")\n",
        "    ax.set_ylim(0, 100)\n",
        "    ax.grid(axis='y', linestyle='--', alpha=0.6)\n",
        "    plt.xticks(rotation=30, ha=\"right\")\n",
        "    plt.tight_layout()\n",
        "\n",
        "    if output_type == 'figure':\n",
        "        return fig\n",
        "    else:\n",
        "        plt.show()\n",
        "        return None\n"
      ]
    },
    {
      "cell_type": "code",
      "source": [
        "def create_precipitation_visualisation(weather_data, output_type='display'):\n",
        "    \"\"\"Visualise precipitation chance per day.\"\"\"\n",
        "    if \"forecast\" not in weather_data or not weather_data[\"forecast\"]:\n",
        "        raise ValueError(\"No forecast data available for precipitation visualisation.\")\n",
        "\n",
        "    dates = [d[\"date\"] for d in weather_data[\"forecast\"]]\n",
        "    # Ensure precip values are numeric, default to 0 if missing\n",
        "    precips = [int(d.get(\"precip_chance_percent\") or 0) for d in weather_data[\"forecast\"]]\n",
        "\n",
        "    fig, ax = plt.subplots(figsize=(8, 4))\n",
        "\n",
        "    if all(p == 0 for p in precips):\n",
        "        # Show a tiny placeholder for visual bars\n",
        "        bars = ax.bar(dates, [1]*len(precips), color='lightgray', edgecolor='black')\n",
        "        ax.text(0.5, 0.5, \" No Rain Expected\", transform=ax.transAxes,\n",
        "                ha='center', va='center', fontsize=12, color='gray')\n",
        "        ax.set_ylim(0, 5)\n",
        "    else:\n",
        "        bars = ax.bar(dates, precips, color='skyblue', edgecolor='black')\n",
        "        ax.set_ylim(0, 100)\n",
        "\n",
        "    ax.set_title(f\"Chance of Precipitation: {weather_data.get('location', '')}\")\n",
        "    ax.set_xlabel(\"Date\")\n",
        "    ax.set_ylabel(\"Precipitation Chance (%)\")\n",
        "    ax.grid(axis='y', linestyle='--', alpha=0.6)\n",
        "    plt.xticks(rotation=30, ha=\"right\")\n",
        "    plt.tight_layout()\n",
        "\n",
        "    if output_type == 'figure':\n",
        "        return fig\n",
        "    else:\n",
        "        plt.show()\n",
        "        return None\n"
      ],
      "metadata": {
        "id": "HpOlQylYG5Ho"
      },
      "id": "HpOlQylYG5Ho",
      "execution_count": 349,
      "outputs": []
    },
    {
      "cell_type": "markdown",
      "id": "9f95d160",
      "metadata": {
        "id": "9f95d160"
      },
      "source": [
        "## 🤖 Natural Language Processing"
      ]
    },
    {
      "cell_type": "code",
      "execution_count": 350,
      "id": "bcc5833e",
      "metadata": {
        "id": "bcc5833e"
      },
      "outputs": [],
      "source": [
        "def parse_weather_question(question, default_location=None):\n",
        "    \"\"\"\n",
        "    Parse a natural language weather question.\n",
        "\n",
        "    Args:\n",
        "        question (str): User's weather-related question\n",
        "        default_location (str): fallback location\n",
        "\n",
        "    Returns:\n",
        "        dict: Extracted information including:\n",
        "            {\n",
        "              \"location\": str or None,\n",
        "              \"time\": \"today\"|\"tomorrow\"|\"weekend\"|\"next_n_days\"|\"date\"|\"any\",\n",
        "              \"n_days\": int (if next_n_days),\n",
        "              \"attribute\": \"temperature\"|\"rain\"|\"umbrella\"|\"wind\"|\"humidity\"|\"general\",\n",
        "              \"raw\": original question\n",
        "            }\n",
        "    \"\"\"\n",
        "    q = question.lower().strip()\n",
        "    parsed = {\"location\": None, \"time\": \"any\", \"n_days\": None, \"attribute\": \"general\", \"raw\": question}\n",
        "\n",
        "    # 1) Location: look for 'in <location>' or 'at <location>' patterns\n",
        "    m = re.search(r\"\\b(?:in|at|for)\\s+([A-Za-z\\u00C0-\\u024F\\-\\s]+)\", question, flags=re.IGNORECASE)\n",
        "    if m:\n",
        "        # take first phrase, stop at common tokens\n",
        "        loc = m.group(1).strip()\n",
        "        # remove trailing question words\n",
        "        loc = re.split(r\"\\b(?:tomorrow|today|this|next|on|at|for|about|should)\\b\", loc, flags=re.IGNORECASE)[0].strip(\",. ?\")\n",
        "        parsed[\"location\"] = loc\n",
        "\n",
        "    # If no location found, try to detect capitalized word groups (naive)\n",
        "    if parsed[\"location\"] is None:\n",
        "        cap_groups = re.findall(r\"\\b([A-Z][a-z]+(?:\\s+[A-Z][a-z]+)*)\\b\", question)\n",
        "        if cap_groups:\n",
        "            # take the last capitalized group as likely location (e.g., \"in Sydney\")\n",
        "            parsed[\"location\"] = cap_groups[-1]\n",
        "\n",
        "    if parsed[\"location\"] is None:\n",
        "        parsed[\"location\"] = default_location\n",
        "\n",
        "    # 2) Time handling\n",
        "    if re.search(r\"\\btoday\\b\", q):\n",
        "        parsed[\"time\"] = \"today\"\n",
        "    elif re.search(r\"\\btomorrow\\b\", q):\n",
        "        parsed[\"time\"] = \"tomorrow\"\n",
        "    elif re.search(r\"\\b(this weekend|weekend)\\b\", q):\n",
        "        parsed[\"time\"] = \"weekend\"\n",
        "    else:\n",
        "        # next N days: \"next 3 days\" or \"next 2 days\"\n",
        "        m = re.search(r\"\\bnext\\s+(\\d+)\\s+days?\\b\", q)\n",
        "        if m:\n",
        "            parsed[\"time\"] = \"next_n_days\"\n",
        "            parsed[\"n_days\"] = int(m.group(1))\n",
        "        else:\n",
        "            # look for named day or date\n",
        "            day_match = re.search(r\"\\b(on\\s+)?([A-Za-z]+day)\\b\", q)\n",
        "            if day_match:\n",
        "                # return a date string attempt\n",
        "                parsed[\"time\"] = \"date\"\n",
        "                parsed[\"n_days\"] = day_match.group(2)\n",
        "\n",
        "    # 3) Attribute detection\n",
        "    if re.search(r\"\\brain|rainy|precipitation|shower|umbrella\", q):\n",
        "        parsed[\"attribute\"] = \"rain\"\n",
        "    elif re.search(r\"\\btemp|temperature|hot|cold|warm|degrees|°c|°f\\b\", q):\n",
        "        parsed[\"attribute\"] = \"temperature\"\n",
        "    elif re.search(r\"\\bwind|windy|gust\", q):\n",
        "        parsed[\"attribute\"] = \"wind\"\n",
        "    elif re.search(r\"\\bhumid|humidity\\b\", q):\n",
        "        parsed[\"attribute\"] = \"humidity\"\n",
        "    elif re.search(r\"\\bumbrella|should i bring an umbrella|bring an umbrella\", q):\n",
        "        parsed[\"attribute\"] = \"umbrella\"\n",
        "    else:\n",
        "        parsed[\"attribute\"] = \"general\"\n",
        "\n",
        "    return parsed"
      ]
    },
    {
      "cell_type": "markdown",
      "id": "0d85225e",
      "metadata": {
        "id": "0d85225e"
      },
      "source": [
        "## 🧭 User Interface"
      ]
    },
    {
      "cell_type": "code",
      "execution_count": 351,
      "id": "fa6cb0f6",
      "metadata": {
        "id": "fa6cb0f6"
      },
      "outputs": [],
      "source": [
        "## 🧭 User Interface\n",
        "\n",
        "def run_weatherwise_app():\n",
        "    \"\"\"\n",
        "    Simple text-based interface for WeatherWise.\n",
        "    Users can enter a location and ask natural language questions about the weather.\n",
        "    \"\"\"\n",
        "    print(\" Welcome to WeatherWise! Your personal weather advisor.\")\n",
        "\n",
        "    # 1) Ask for default location\n",
        "    default_location = pyip.inputStr(\"Enter your default city (or press Enter to skip): \", blank=True)\n",
        "    if not default_location:\n",
        "        default_location = \"Sydney\"  # fallback default\n",
        "\n",
        "    while True:\n",
        "        print(\"\\nYou can ask questions like:\")\n",
        "        print(\" - Will it rain in Sydney tomorrow?\")\n",
        "        print(\" - What is the temperature in Melbourne today?\")\n",
        "        print(\" - Should I bring an umbrella this weekend?\")\n",
        "        print(\"Type 'exit' to quit.\\n\")\n",
        "\n",
        "        # 2) Get user question\n",
        "        question = pyip.inputStr(\"Enter your weather question: \")\n",
        "        if question.lower() in (\"exit\", \"quit\"):\n",
        "            print(\"Goodbye! Stay safe and dry \")\n",
        "            break\n",
        "\n",
        "        # 3) Parse question\n",
        "        parsed = parse_weather_question(question, default_location)\n",
        "\n",
        "        # 4) Fetch weather data\n",
        "        try:\n",
        "            weather_data = get_weather_data(parsed[\"location\"], forecast_days=5)\n",
        "        except Exception as e:\n",
        "            print(f\" Error fetching weather data: {e}\")\n",
        "            continue\n",
        "\n",
        "        # 5) Generate AI-style response\n",
        "        response = generate_weather_response(parsed, weather_data)\n",
        "        print(\"\\n Weather Advisor says:\")\n",
        "        print(response)\n",
        "\n",
        "        # 6) Optionally visualise precipitation\n",
        "        if parsed[\"attribute\"] in (\"rain\", \"umbrella\", \"general\"):\n",
        "            try:\n",
        "                create_precipitation_visualisation(weather_data)\n",
        "            except Exception as e:\n",
        "                print(f\" Unable to create visualisation: {e}\")\n",
        "\n",
        "        print(\"\\n---\")\n",
        "\n",
        "# Run the interface\n",
        "# run_weatherwise_app()\n"
      ]
    },
    {
      "cell_type": "markdown",
      "id": "d643a53c",
      "metadata": {
        "id": "d643a53c"
      },
      "source": [
        "## 🧩 Main Application Logic"
      ]
    },
    {
      "cell_type": "code",
      "execution_count": 352,
      "id": "a9e2e805",
      "metadata": {
        "id": "a9e2e805"
      },
      "outputs": [],
      "source": [
        "def generate_weather_response(parsed_question, weather_data):\n",
        "    \"\"\"\n",
        "    Generate a natural language response to a weather question.\n",
        "\n",
        "    Args:\n",
        "        parsed_question (dict): Parsed question data\n",
        "        weather_data (dict): Weather data\n",
        "\n",
        "    Returns:\n",
        "        str: Natural language response\n",
        "    \"\"\"\n",
        "    loc = parsed_question.get(\"location\") or weather_data.get(\"location\", \"your location\")\n",
        "    attr = parsed_question.get(\"attribute\", \"general\")\n",
        "    days = _select_forecast_day(parsed_question, weather_data)\n",
        "    current = weather_data.get(\"current\", {})\n",
        "\n",
        "    # If user asked about umbrella / rain\n",
        "    if attr in (\"rain\", \"umbrella\"):\n",
        "        # Look for any chosen day with significant precip chance\n",
        "        lines = []\n",
        "        for d in days:\n",
        "            pct = d.get(\"precip_chance_percent\", 0)\n",
        "            if pct >= 60:\n",
        "                lines.append(f\"{d['date']}: High chance of rain ({pct}%). Take an umbrella.\")\n",
        "            elif pct >= 30:\n",
        "                lines.append(f\"{d['date']}: Moderate chance of rain ({pct}%). Consider packing an umbrella.\")\n",
        "            else:\n",
        "                lines.append(f\"{d['date']}: Low chance of rain ({pct}%). An umbrella is probably not necessary.\")\n",
        "        if not lines:\n",
        "            # fallback to current\n",
        "            cur_pct = 0\n",
        "            lines = [f\"Current conditions: {current.get('weather_desc','')}, {current.get('temp_C','')}°C.\"]\n",
        "        return f\"Weather for {loc}:\\n\" + \"\\n\".join(lines)\n",
        "\n",
        "    # Temperature questions\n",
        "    if attr == \"temperature\":\n",
        "        lines = []\n",
        "        # If user asked about today/tomorrow, include current and forecast\n",
        "        if parsed_question.get(\"time\") in (\"today\", \"tomorrow\", \"any\"):\n",
        "            if current:\n",
        "                lines.append(f\"Current: {current.get('temp_C','?')}°C (feels like {current.get('feelslike_C','?')}°C).\")\n",
        "        for d in days:\n",
        "            lines.append(f\"{d['date']}: avg {d.get('avgtemp_C','?')}°C (min {d.get('mintemp_C','?')}°C / max {d.get('maxtemp_C','?')}°C).\")\n",
        "        return f\"Temperature for {loc}:\\n\" + \"\\n\".join(lines)\n",
        "\n",
        "    # Wind\n",
        "    if attr == \"wind\":\n",
        "        if current and current.get(\"wind_kmph\") is not None:\n",
        "            return f\"Current wind in {loc}: {current.get('wind_kmph')} km/h. Conditions: {current.get('weather_desc','')}\"\n",
        "        else:\n",
        "            return f\"Wind info for {loc} not available.\"\n",
        "\n",
        "    # Humidity\n",
        "    if attr == \"humidity\":\n",
        "        if current and current.get(\"humidity\") is not None:\n",
        "            return f\"Current humidity in {loc}: {current.get('humidity')}%.\"\n",
        "        else:\n",
        "            return f\"Humidity info for {loc} not available.\"\n",
        "\n",
        "    # General / default: summary of next days\n",
        "    lines = [f\"Summary for {loc}:\"]\n",
        "    if current:\n",
        "        lines.append(f\"Now: {current.get('temp_C','?')}°C, {current.get('weather_desc','')}.\")\n",
        "    for d in days:\n",
        "        lines.append(f\"{d['date']}: avg {d.get('avgtemp_C','?')}°C, rain chance {d.get('precip_chance_percent',0)}%.\")\n",
        "    return \"\\n\".join(lines)\n",
        "# Basic menu example using pyinputplus (console)\n",
        "def run_console_app(default_location=None):\n",
        "    \"\"\"\n",
        "    Small console demo showing how to call the functions.\n",
        "    \"\"\"\n",
        "    import pyinputplus as pyip\n",
        "\n",
        "    print(\"Welcome to Weather Advisor (console demo).\")\n",
        "    location = default_location or pyip.inputStr(\"Enter default location (or press Enter): \", default=\"\").strip() or None\n",
        "\n",
        "    while True:\n",
        "        choice = pyip.inputMenu([\"Get current & forecast\", \"Ask a question (NL)\", \"Temperature chart\", \"Precipitation chart\", \"Exit\"],\n",
        "                                 prompt=\"Choose an action:\\n\", numbered=True)\n",
        "        try:\n",
        "            if choice.startswith(\"Get current\"):\n",
        "                loc = pyip.inputStr(f\"Location (or Enter for {location}): \", default=\"\").strip() or location\n",
        "                if not loc:\n",
        "                    print(\"No location provided.\")\n",
        "                    continue\n",
        "                wd = get_weather_data(loc, forecast_days=5)\n",
        "                print(generate_weather_response({\"location\": loc, \"time\": \"any\", \"attribute\": \"general\", \"raw\": \"\"}, wd))\n",
        "\n",
        "            elif choice.startswith(\"Ask a question\"):\n",
        "                q = pyip.inputStr(\"Ask a weather question: \")\n",
        "                parsed = parse_weather_question(q, default_location=location)\n",
        "                if parsed[\"location\"] is None:\n",
        "                    print(\"Couldn't determine a location. Please include 'in <city>' or set a default.\")\n",
        "                    continue\n",
        "                wd = get_weather_data(parsed[\"location\"], forecast_days=5)\n",
        "                print(generate_weather_response(parsed, wd))\n",
        "\n",
        "            elif choice.startswith(\"Temperature chart\"):\n",
        "                loc = pyip.inputStr(f\"Location (or Enter for {location}): \", default=\"\").strip() or location\n",
        "                wd = get_weather_data(loc, forecast_days=5)\n",
        "                create_temperature_visualisation(wd, output_type='display')\n",
        "\n",
        "            elif choice.startswith(\"Precipitation chart\"):\n",
        "                loc = pyip.inputStr(f\"Location (or Enter for {location}): \", default=\"\").strip() or location\n",
        "                wd = get_weather_data(loc, forecast_days=5)\n",
        "                create_precipitation_visualisation(wd, output_type='display')\n",
        "\n",
        "            else:  # Exit\n",
        "                print(\"Goodbye!\")\n",
        "                break\n",
        "        except Exception as e:\n",
        "            print(\"Error:\", e)\n",
        "            continue\n"
      ]
    },
    {
      "cell_type": "code",
      "source": [],
      "metadata": {
        "id": "t_1nDBTVjDQB"
      },
      "id": "t_1nDBTVjDQB",
      "execution_count": 352,
      "outputs": []
    },
    {
      "cell_type": "markdown",
      "id": "fde44479",
      "metadata": {
        "id": "fde44479"
      },
      "source": [
        "## 🧪 Testing and Examples"
      ]
    },
    {
      "cell_type": "code",
      "execution_count": 353,
      "id": "4e573901",
      "metadata": {
        "id": "4e573901",
        "colab": {
          "base_uri": "https://localhost:8080/",
          "height": 995
        },
        "outputId": "5ebf642e-beda-4a77-ec65-a3dfbcdb2132"
      },
      "outputs": [
        {
          "output_type": "stream",
          "name": "stdout",
          "text": [
            " Testing get_weather_data()...\n",
            "\n",
            "Weather data keys: dict_keys(['location', 'current', 'forecast'])\n",
            "Current temperature: N/A\n",
            "\n",
            " Testing create_temperature_visualisation()...\n",
            "\n"
          ]
        },
        {
          "output_type": "display_data",
          "data": {
            "text/plain": [
              "<Figure size 800x400 with 1 Axes>"
            ],
            "image/png": "[encoded data removed]"
          },
          "metadata": {}
        },
        {
          "output_type": "stream",
          "name": "stdout",
          "text": [
            "\n",
            " Testing create_precipitation_visualisation()...\n",
            "\n"
          ]
        },
        {
          "output_type": "display_data",
          "data": {
            "text/plain": [
              "<Figure size 800x400 with 1 Axes>"
            ],
            "image/png": "[encoded data removed]"
          },
          "metadata": {}
        },
        {
          "output_type": "stream",
          "name": "stdout",
          "text": [
            "\n",
            " Testing parse_weather_question()...\n",
            "\n",
            "Parsed question data: {'location': 'Sydney', 'time': 'tomorrow', 'n_days': None, 'attribute': 'rain', 'raw': 'Will it rain in Sydney tomorrow?'}\n",
            "\n",
            " Testing generate_weather_response()...\n",
            "\n",
            "Weather Advisor says: Weather for Sydney:\n",
            "2025-10-04: Low chance of rain (0%). An umbrella is probably not necessary.\n"
          ]
        },
        {
          "output_type": "stream",
          "name": "stderr",
          "text": [
            "/tmp/ipython-input-664420790.py:6: DeprecationWarning: datetime.datetime.utcnow() is deprecated and scheduled for removal in a future version. Use timezone-aware objects to represent datetimes in UTC: datetime.datetime.now(datetime.UTC).\n",
            "  today = datetime.utcnow().date()\n"
          ]
        }
      ],
      "source": [
        "# 🧪 Testing and Examples\n",
        "\n",
        "# Example 1: Test weather data retrieval\n",
        "print(\" Testing get_weather_data()...\\n\")\n",
        "sample_weather = get_weather_data(\"Sydney\", forecast_days=3)\n",
        "print(\"Weather data keys:\", sample_weather.keys())\n",
        "print(\"Current temperature:\", sample_weather.get('current', {}).get('temp', 'N/A'))\n",
        "\n",
        "# Example 2: Test temperature visualisation\n",
        "print(\"\\n Testing create_temperature_visualisation()...\\n\")\n",
        "create_temperature_visualisation(sample_weather)\n",
        "\n",
        "# Example 3: Test precipitation visualisation\n",
        "print(\"\\n Testing create_precipitation_visualisation()...\\n\")\n",
        "create_precipitation_visualisation(sample_weather)\n",
        "\n",
        "# Example 4: Test natural language parsing\n",
        "print(\"\\n Testing parse_weather_question()...\\n\")\n",
        "parsed = parse_weather_question(\"Will it rain in Sydney tomorrow?\")\n",
        "print(\"Parsed question data:\", parsed)\n",
        "\n",
        "# Example 5: Test AI response generation\n",
        "print(\"\\n Testing generate_weather_response()...\\n\")\n",
        "response = generate_weather_response(parsed, sample_weather)\n",
        "print(\"Weather Advisor says:\", response)\n"
      ]
    },
    {
      "cell_type": "markdown",
      "id": "d2885880",
      "metadata": {
        "id": "d2885880"
      },
      "source": [
        "## 🗂️ AI Prompting Log (Optional)\n",
        "Add markdown cells here summarising prompts used or link to AI conversations in the `ai-conversations/` folder.\n"
      ]
    }
  ],
  "metadata": {
    "language_info": {
      "name": "python"
    },
    "colab": {
      "provenance": [],
      "include_colab_link": true
    },
    "kernelspec": {
      "name": "python3",
      "display_name": "Python 3"
    }
  },
  "nbformat": 4,
  "nbformat_minor": 5
}